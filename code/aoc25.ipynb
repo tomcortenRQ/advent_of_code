{
 "cells": [
  {
   "cell_type": "code",
   "execution_count": 340,
   "id": "49e50fa5",
   "metadata": {},
   "outputs": [],
   "source": [
    "import math\n",
    "import numpy as np\n",
    "\n",
    "with open(r\"/Users/tomcorten/Documents/code/advent_of_code/input/input25.txt\",'r') as f:\n",
    "    lines = [line.rstrip() for line in f]   "
   ]
  },
  {
   "cell_type": "code",
   "execution_count": 343,
   "id": "055ace0d",
   "metadata": {},
   "outputs": [
    {
     "name": "stdout",
     "output_type": "stream",
     "text": [
      "2-0-01==0-1=2212=100\n"
     ]
    }
   ],
   "source": [
    "s = 0\n",
    "\n",
    "for line in lines:\n",
    "    s += snaf_to_dec(line)\n",
    "    \n",
    "print(dec_to_snaf(s))\n",
    "\n",
    "\n",
    "def subtr_pow_five(elem, x, dec):\n",
    "    one_or_two = np.argmin((np.array([abs((x)-dec), abs((x-elem)-dec), abs((x-2*elem) - dec)])))\n",
    "    if one_or_two == 1:\n",
    "        x -= elem\n",
    "        s = '-'\n",
    "    if one_or_two == 2:\n",
    "        x -= 2*elem\n",
    "        s = '='  \n",
    "    if one_or_two == 0:\n",
    "        s = '0'\n",
    "    return x, s\n",
    "\n",
    "\n",
    "def closed_power_five(dec):\n",
    "    power = 1\n",
    "    minim = dec - power\n",
    "    powers_til_minim = [power]\n",
    "    while abs(dec - power*5) <= minim:\n",
    "        power *= 5\n",
    "        powers_til_minim.append(power)\n",
    "        minim = abs(dec - power)\n",
    "    return powers_til_minim"
   ]
  },
  {
   "cell_type": "code",
   "execution_count": 336,
   "id": "4e4fc10e",
   "metadata": {},
   "outputs": [
    {
     "data": {
      "text/plain": [
       "'1=11-2'"
      ]
     },
     "execution_count": 336,
     "metadata": {},
     "output_type": "execute_result"
    }
   ],
   "source": [
    "def snaf_to_dec(snaf):\n",
    "    n = len(snaf)-1\n",
    "    num = 0\n",
    "    for count, i in enumerate(snaf):\n",
    "        power = 5**(n-count)\n",
    "        if i=='=':\n",
    "            num -= 2*power\n",
    "            continue\n",
    "        if i=='-':\n",
    "            num -= power\n",
    "            continue\n",
    "        else:\n",
    "            num += int(i)*power\n",
    "    return num\n",
    "\n",
    "\n",
    "def dec_to_snaf(dec):\n",
    "    num = \"\"\n",
    "    close = list(reversed(closed_power_five(dec))) \n",
    "    x = 0\n",
    "    for elem in close:\n",
    "        if x <= dec:\n",
    "            one_or_two = np.argmin(np.array([abs((x)-dec), abs((x+elem)-dec), abs((x+2*elem) - dec)]))\n",
    "            x += one_or_two*elem\n",
    "            num += str(one_or_two)\n",
    "            continue\n",
    "        if x > dec:\n",
    "            x, s = subtr_pow_five(elem, x, dec)\n",
    "            num += s\n",
    "            continue\n",
    "    return num  \n",
    "    \n",
    "    \n",
    "dec_to_snaf(2022)"
   ]
  }
 ],
 "metadata": {
  "kernelspec": {
   "display_name": "Python 3 (ipykernel)",
   "language": "python",
   "name": "python3"
  },
  "language_info": {
   "codemirror_mode": {
    "name": "ipython",
    "version": 3
   },
   "file_extension": ".py",
   "mimetype": "text/x-python",
   "name": "python",
   "nbconvert_exporter": "python",
   "pygments_lexer": "ipython3",
   "version": "3.9.6"
  }
 },
 "nbformat": 4,
 "nbformat_minor": 5
}
