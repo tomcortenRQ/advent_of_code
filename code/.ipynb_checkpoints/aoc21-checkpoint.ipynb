{
 "cells": [
  {
   "cell_type": "code",
   "execution_count": 211,
   "id": "f183efcb",
   "metadata": {},
   "outputs": [],
   "source": [
    "import pandas as pd\n",
    "from collections.abc import MutableMapping"
   ]
  },
  {
   "cell_type": "code",
   "execution_count": 123,
   "id": "50582596",
   "metadata": {},
   "outputs": [],
   "source": [
    "x = pd.read_csv(r\"C:\\Users\\TomCortenRiskQuest\\Documents\\avent_of_cod\\advent_of_code\\input\\input2121.txt\", header = None, delimiter = ':', index_col = 0)"
   ]
  },
  {
   "cell_type": "code",
   "execution_count": 257,
   "id": "f5462e16",
   "metadata": {},
   "outputs": [
    {
     "name": "stdout",
     "output_type": "stream",
     "text": [
      "299983725663456.0\n"
     ]
    }
   ],
   "source": [
    "def do_operation(f, math, l):\n",
    "    if math == '+':\n",
    "        return f + l\n",
    "    if math == '*':\n",
    "        return f * l\n",
    "    if math == '/':\n",
    "        return f / l\n",
    "    if math == '-':\n",
    "        return f - l \n",
    "\n",
    "while True:\n",
    "    if isinstance(x.loc['root', 1], float):\n",
    "        print(x.loc['root', 1])\n",
    "        break\n",
    "    else:\n",
    "        for index, row in x.iterrows():\n",
    "            operation = row[1]\n",
    "            try:\n",
    "                y = float(operation)\n",
    "            except ValueError as e:\n",
    "                _, first, oper, last = operation.split(' ')\n",
    "                f, l = x.loc[first], x.loc[last]\n",
    "                try:\n",
    "                    f = float(f[1])\n",
    "                    l = float(l[1])\n",
    "                    x.loc[index, 1] = do_operation(f, oper, l)\n",
    "                except ValueError as e:\n",
    "                    continue"
   ]
  },
  {
   "cell_type": "code",
   "execution_count": 256,
   "id": "e30d7dbc",
   "metadata": {},
   "outputs": [
    {
     "data": {
      "text/plain": [
       "3093175982595.0"
      ]
     },
     "execution_count": 256,
     "metadata": {},
     "output_type": "execute_result"
    }
   ],
   "source": [
    "from scipy import optimize\n",
    "\n",
    "\n",
    "def kutfunctie(x_0):\n",
    "    x = pd.read_csv(r\"C:\\Users\\TomCortenRiskQuest\\Documents\\avent_of_cod\\advent_of_code\\input\\input21.txt\", header = None, delimiter = ':', index_col = 0)\n",
    "    _, r_f, equal, l_f = x.loc['root', 1].split(' ')\n",
    "    x.loc['humn', 1] = x_0\n",
    "    while True:\n",
    "        if isinstance(x.loc[l_f, 1], float) and isinstance(x.loc[r_f, 1], float):\n",
    "            return x.loc[r_f, 1] - x.loc[l_f, 1]\n",
    "            break\n",
    "\n",
    "        for index, row in x.iterrows():\n",
    "            operation = row[1]\n",
    "            try:\n",
    "                y = float(operation)\n",
    "            except ValueError as e:\n",
    "                _, first, oper, last = operation.split(' ')\n",
    "                f, l = x.loc[first], x.loc[last]\n",
    "                try:\n",
    "                    f = float(f[1])\n",
    "                    l = float(l[1])\n",
    "                    x.loc[index, 1] = do_operation(f, oper, l)\n",
    "                except ValueError as e:\n",
    "                    continue\n",
    "                \n",
    "root = optimize.newton(kutfunctie, 10, tol=10**(-10))\n",
    "root"
   ]
  }
 ],
 "metadata": {
  "kernelspec": {
   "display_name": "Python 3 (ipykernel)",
   "language": "python",
   "name": "python3"
  },
  "language_info": {
   "codemirror_mode": {
    "name": "ipython",
    "version": 3
   },
   "file_extension": ".py",
   "mimetype": "text/x-python",
   "name": "python",
   "nbconvert_exporter": "python",
   "pygments_lexer": "ipython3",
   "version": "3.10.6"
  }
 },
 "nbformat": 4,
 "nbformat_minor": 5
}
