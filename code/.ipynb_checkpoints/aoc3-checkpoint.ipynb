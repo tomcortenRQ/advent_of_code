{
 "cells": [
  {
   "cell_type": "code",
   "execution_count": 17,
   "id": "c45ed0b9",
   "metadata": {},
   "outputs": [],
   "source": [
    "with open(r\"C:\\Users\\TomCortenRiskQuest\\Documents\\haven_question\\code\\aoc_data\\input3.txt\",'r') as f:\n",
    "    lines = [line.rstrip() for line in f]   \n",
    "import string"
   ]
  },
  {
   "cell_type": "code",
   "execution_count": 35,
   "id": "1bac770a",
   "metadata": {},
   "outputs": [
    {
     "data": {
      "text/plain": [
       "8109"
      ]
     },
     "execution_count": 35,
     "metadata": {},
     "output_type": "execute_result"
    }
   ],
   "source": [
    "def strIntersection(s1, s2):\n",
    "    out = \"\"\n",
    "    for c in s1:\n",
    "        if c in s2 and not c in out:\n",
    "            out += c\n",
    "    return out\n",
    "\n",
    "score = 0\n",
    "for backpack in lines:\n",
    "    compar1, compar2 = backpack[:round(len(backpack)/2)], backpack[round(len(backpack)/2):]\n",
    "    error = strIntersection(compar1, compar2)\n",
    "    if error.isupper():\n",
    "        score += ord(error.lower())-97+27\n",
    "    else:\n",
    "        score += ord(error.lower())-97+1\n",
    "score"
   ]
  },
  {
   "cell_type": "code",
   "execution_count": 45,
   "id": "87ee9b2d",
   "metadata": {},
   "outputs": [
    {
     "data": {
      "text/plain": [
       "2738"
      ]
     },
     "execution_count": 45,
     "metadata": {},
     "output_type": "execute_result"
    }
   ],
   "source": [
    "score = 0\n",
    "for i in range(3, len(lines)+3, 3):\n",
    "    group = lines[i-3:i]\n",
    "    a, b, c = group[0], group[1], group[2]\n",
    "    partial_badge = strIntersection(a, b)\n",
    "    badge = strIntersection(partial_badge, c)\n",
    "    if badge.isupper():\n",
    "        #print(ord(error.lower())-97+27, error)\n",
    "        score += ord(badge.lower())-97+27\n",
    "    else:\n",
    "        #print(ord(error.lower())-97+1, error)\n",
    "        score += ord(badge.lower())-97+1\n",
    "score"
   ]
  }
 ],
 "metadata": {
  "kernelspec": {
   "display_name": "Python 3 (ipykernel)",
   "language": "python",
   "name": "python3"
  },
  "language_info": {
   "codemirror_mode": {
    "name": "ipython",
    "version": 3
   },
   "file_extension": ".py",
   "mimetype": "text/x-python",
   "name": "python",
   "nbconvert_exporter": "python",
   "pygments_lexer": "ipython3",
   "version": "3.10.6"
  }
 },
 "nbformat": 4,
 "nbformat_minor": 5
}
