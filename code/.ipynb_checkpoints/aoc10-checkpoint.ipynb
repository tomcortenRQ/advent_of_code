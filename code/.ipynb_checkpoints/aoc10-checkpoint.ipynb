{
 "cells": [
  {
   "cell_type": "code",
   "execution_count": 209,
   "id": "d3abe70f",
   "metadata": {},
   "outputs": [],
   "source": [
    "import re\n",
    "\n",
    "with open(r\"C:\\Users\\TomCortenRiskQuest\\Documents\\avent_of_cod\\advent_of_code\\input\\input10.txt\", 'r') as file:\n",
    "    lines = [line.rstrip() for line in file]"
   ]
  },
  {
   "cell_type": "code",
   "execution_count": 210,
   "id": "65243e7a",
   "metadata": {},
   "outputs": [
    {
     "data": {
      "text/plain": [
       "16480"
      ]
     },
     "execution_count": 210,
     "metadata": {},
     "output_type": "execute_result"
    }
   ],
   "source": [
    "x = 1\n",
    "sig_strengths = {1:1, 2:1} # -> [0, 0, 15, -11, 6, ]\n",
    "k = 1\n",
    "cycle = [20, 60, 100, 140, 180, 220]\n",
    "\n",
    "for elem in lines:\n",
    "    if \"addx\" in elem:\n",
    "        val = int(re.findall('-?\\d+\\.?\\d*', elem)[0])\n",
    "        x+=val\n",
    "        sig_strengths[k+2] = x\n",
    "        sig_strengths[k+3] = x\n",
    "        sig_strengths[k+4] = x\n",
    "        k+=2\n",
    "    else:\n",
    "        sig_strengths[k] = x\n",
    "        sig_strengths[k+1] = x\n",
    "        sig_strengths[k+2] = x\n",
    "        k += 1\n",
    "     \n",
    "\n",
    "sig_strengths = {key: value * key for key, value in sig_strengths.items()}\n",
    "sum([sig_strengths[i] for i in cycle])"
   ]
  },
  {
   "cell_type": "code",
   "execution_count": 208,
   "id": "a84ac3c4",
   "metadata": {},
   "outputs": [
    {
     "name": "stdout",
     "output_type": "stream",
     "text": [
      "###..#....####.####.#..#.#....###..###..\n",
      "#..#.#....#....#....#..#.#....#..#.#..#.\n",
      "#..#.#....###..###..#..#.#....#..#.###..\n",
      "###..#....#....#....#..#.#....###..#..#.\n",
      "#....#....#....#....#..#.#....#....#..#.\n",
      "#....####.####.#.....##..####.#....###..\n",
      ".\n"
     ]
    }
   ],
   "source": [
    "x = ''\n",
    "k = 1\n",
    "for i in range(1, len(sig_strengths)):\n",
    "    sprite = [sig_strengths[i], sig_strengths[i]+1, sig_strengths[i]+2]\n",
    "    if k in sprite:\n",
    "        x+=\"#\"\n",
    "    else:\n",
    "        x+=\".\"\n",
    "    if i%40==0:\n",
    "        x+=\"\\n\"\n",
    "        k=0\n",
    "    k+=1  \n",
    "print(x)"
   ]
  },
  {
   "cell_type": "code",
   "execution_count": null,
   "id": "ec83d520",
   "metadata": {},
   "outputs": [],
   "source": []
  }
 ],
 "metadata": {
  "kernelspec": {
   "display_name": "Python 3 (ipykernel)",
   "language": "python",
   "name": "python3"
  },
  "language_info": {
   "codemirror_mode": {
    "name": "ipython",
    "version": 3
   },
   "file_extension": ".py",
   "mimetype": "text/x-python",
   "name": "python",
   "nbconvert_exporter": "python",
   "pygments_lexer": "ipython3",
   "version": "3.10.6"
  }
 },
 "nbformat": 4,
 "nbformat_minor": 5
}
