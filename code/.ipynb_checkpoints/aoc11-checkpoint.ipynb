{
 "cells": [
  {
   "cell_type": "code",
   "execution_count": 1094,
   "id": "e5389768",
   "metadata": {},
   "outputs": [],
   "source": [
    "class Monkey:\n",
    "    def __init__(self, name, starting_items, operation, test):\n",
    "        self.name = name\n",
    "        self.starting_items = starting_items\n",
    "        self.operation = operation\n",
    "        self.test = test\n",
    "    \n",
    "    def testing(self, worry_level):\n",
    "        if int(worry_level)%self.test[0] == 0:\n",
    "            #print(f\"\\tCurrent worry level is divisible by {self.test[0]}.\")\n",
    "            return self.test[1]\n",
    "        else:\n",
    "            #print(f\"\\tCurrent worry level is not divisible by {self.test[0]}.\")\n",
    "            return self.test[2]\n",
    "        \n",
    "    def worry(self, item, M):\n",
    "        if self.operation[1]=='old':\n",
    "            result = item**2\n",
    "            #print(f\"\\tWorry level is squared by to {result}.\")\n",
    "            return result%M\n",
    "        if self.operation[0]==\"*\":\n",
    "            result = item*int(self.operation[1])\n",
    "            #print(f\"\\tWorry level is multiplied by {self.operation[1]} to {result}.\")\n",
    "            return result%M\n",
    "        if self.operation[0]==\"+\":\n",
    "            result = item+int(self.operation[1])\n",
    "            #print(f\"\\tWorry level increases by {self.operation[1]} to {result}.\")\n",
    "            return result%M\n",
    "        \n",
    "    def inspecting(self, puzzle, M):\n",
    "        self.to_monkey = []\n",
    "        for item in self.starting_items:\n",
    "        #print(f\"\\tMonkey inspects an item with a worry level of {item}\")\n",
    "            worry_level = self.worry(item, M)\n",
    "            if puzzle == \"a\":\n",
    "                worry_level = int(self.worry(item)/3)\n",
    "            else:\n",
    "                pass\n",
    "            to = self.testing(worry_level)\n",
    "            self.to_monkey.append((to, worry_level))\n",
    "        #print(f\"\\tItem with worry level {worry_level} is thrown to monkey {to}.\\n\")"
   ]
  },
  {
   "cell_type": "code",
   "execution_count": 1095,
   "id": "b3bac582",
   "metadata": {},
   "outputs": [
    {
     "name": "stdout",
     "output_type": "stream",
     "text": [
      "Round 10000: gives [198608, 67584, 115440, 198618, 40068, 18172, 234173, 234155]\n",
      "Monkey business: 54832778815\n"
     ]
    }
   ],
   "source": [
    "#%%time\n",
    "\n",
    "import re\n",
    "from math import gcd\n",
    "\n",
    "with open(r\"/Users/tomcorten/Documents/code/advent_of_code/input/input11.txt\", 'r') as f:\n",
    "    contents = f.read()\n",
    "\n",
    "splitted_input = contents.split('\\n\\n')\n",
    "monkey_list = []\n",
    "modulos = []\n",
    "\n",
    "for monkey in splitted_input:\n",
    "    name, starting_items, operation = monkey.split('\\n')[:3]\n",
    "    test = monkey.split('\\n')[3:]\n",
    "    name = int(re.findall(r'\\d+', name)[0])\n",
    "    starting_items = [int(i) for i in re.findall(r'\\d+', starting_items)]\n",
    "    test = [int(re.findall(r'\\d+', i)[0]) for i in test]\n",
    "    operation = operation.split(\" \")[-2:]\n",
    "    operation[-1] = operation[-1]\n",
    "    monk = Monkey(name, starting_items, operation, test)\n",
    "    monkey_list.append(monk)\n",
    "    modulos.append(test[0])\n",
    "    \n",
    "    \n",
    "M = np.prod(modulos)\n",
    "score = [0]*len(monkey_list)\n",
    "\n",
    "for i in range(10000):\n",
    "    for monkey in monkey_list:\n",
    "            monkey.inspecting(puzzle = 'b', M = M)\n",
    "            score[monkey.name]+= len(monkey.starting_items)\n",
    "            for to, worry in monkey.to_monkey:\n",
    "                monkey_list[to].starting_items.append(worry)\n",
    "                if monkey.starting_items!=[]:\n",
    "                    monkey.starting_items.pop(0)\n",
    "                else:\n",
    "                    pass\n",
    "                  \n",
    "sort_list = sorted(score)[-2:]\n",
    "monkey_business = sort_list[0]*sort_list[1]\n",
    "print(f\"Round {i+1}: gives {score}\\nMonkey business: {monkey_business}\")"
   ]
  },
  {
   "cell_type": "markdown",
   "id": "157ef81d",
   "metadata": {},
   "source": [
    "Round 20: gives [99, 97, 8, 103]\n",
    "CPU times: user 1.8 ms, sys: 993 µs, total: 2.8 ms\n",
    "Wall time: 1.96 ms"
   ]
  }
 ],
 "metadata": {
  "kernelspec": {
   "display_name": "Python 3 (ipykernel)",
   "language": "python",
   "name": "python3"
  },
  "language_info": {
   "codemirror_mode": {
    "name": "ipython",
    "version": 3
   },
   "file_extension": ".py",
   "mimetype": "text/x-python",
   "name": "python",
   "nbconvert_exporter": "python",
   "pygments_lexer": "ipython3",
   "version": "3.9.6"
  }
 },
 "nbformat": 4,
 "nbformat_minor": 5
}
