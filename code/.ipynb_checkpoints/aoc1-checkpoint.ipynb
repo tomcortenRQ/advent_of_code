{
 "cells": [
  {
   "cell_type": "code",
   "execution_count": 66,
   "id": "fb20295f",
   "metadata": {},
   "outputs": [
    {
     "name": "stdout",
     "output_type": "stream",
     "text": [
      "69501\n",
      "202346\n",
      "CPU times: total: 15.6 ms\n",
      "Wall time: 10.5 ms\n"
     ]
    }
   ],
   "source": [
    "%%time\n",
    "from itertools import groupby\n",
    "from ast import literal_eval as le\n",
    "import numpy as np\n",
    "\n",
    "data = []\n",
    "with open(r\"C:\\Users\\TomCortenRiskQuest\\Documents\\haven_question\\data\\input.txt\", 'r') as f:\n",
    "    data = (k.split() for k in f.read().splitlines())\n",
    "\n",
    "final = []\n",
    "for _,v in groupby(data, lambda x: x != []):\n",
    "    bb = list(v)\n",
    "    if bb != [[]]:\n",
    "        final.append([le(k[0]) for k in bb])\n",
    "\n",
    "print(max([sum(i) for i in final]))\n",
    "print(sum(sorted([sum(i) for i in final])[-3:]))"
   ]
  },
  {
   "cell_type": "code",
   "execution_count": null,
   "id": "edfa4548",
   "metadata": {},
   "outputs": [],
   "source": []
  }
 ],
 "metadata": {
  "kernelspec": {
   "display_name": "Python 3 (ipykernel)",
   "language": "python",
   "name": "python3"
  },
  "language_info": {
   "codemirror_mode": {
    "name": "ipython",
    "version": 3
   },
   "file_extension": ".py",
   "mimetype": "text/x-python",
   "name": "python",
   "nbconvert_exporter": "python",
   "pygments_lexer": "ipython3",
   "version": "3.9.6"
  }
 },
 "nbformat": 4,
 "nbformat_minor": 5
}
