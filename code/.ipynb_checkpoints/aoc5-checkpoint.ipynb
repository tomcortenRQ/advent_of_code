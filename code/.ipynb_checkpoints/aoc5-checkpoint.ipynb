{
 "cells": [
  {
   "cell_type": "code",
   "execution_count": 234,
   "id": "d0a6bad5",
   "metadata": {},
   "outputs": [],
   "source": [
    "import re\n",
    "import numpy as np\n",
    "\n",
    "with open(r\"C:\\Users\\TomCortenRiskQuest\\Documents\\avent_of_cod\\advent_of_code\\input\\input5.txt\", 'r+') as text:\n",
    "    contents: list[str] = text.read().split('\\n\\n')"
   ]
  },
  {
   "cell_type": "code",
   "execution_count": 239,
   "id": "0b717c3e",
   "metadata": {},
   "outputs": [],
   "source": [
    "crates, steps = contents"
   ]
  },
  {
   "cell_type": "code",
   "execution_count": 240,
   "id": "6d4cb524",
   "metadata": {},
   "outputs": [],
   "source": [
    "crates = crates.split(\"\\n\")\n",
    "steps = steps.split(\"\\n\")"
   ]
  },
  {
   "cell_type": "code",
   "execution_count": 241,
   "id": "6e86a768",
   "metadata": {},
   "outputs": [],
   "source": [
    "steps = [list(map(int, (re.findall(r'\\d+', i)))) for i in steps[:-1]]"
   ]
  },
  {
   "cell_type": "code",
   "execution_count": 242,
   "id": "f8ea526e",
   "metadata": {
    "collapsed": true
   },
   "outputs": [
    {
     "data": {
      "text/plain": [
       "[['[N]', '[Q]', '[L]', '[S]', '[C]', '[Z]', '[P]', '[T]'],\n",
       " ['   ', '[G]', '[C]', '[H]', '[V]', '[T]', '[P]', '[L]'],\n",
       " ['   ', '   ', '   ', '   ', '[F]', '[Z]', '[C]', '[D]'],\n",
       " ['[C]', '[V]', '[M]', '[L]', '[D]', '[T]', '[W]', '[G]'],\n",
       " ['   ', '   ', '   ', '   ', '   ', '[C]', '[W]', '[P]'],\n",
       " ['[Z]', '[S]', '[T]', '[C]', '[D]', '[J]', '[F]', '[P]'],\n",
       " ['   ', '   ', '   ', '[D]', '[B]', '[G]', '[W]', '[V]'],\n",
       " ['   ', '   ', '[W]', '[H]', '[Q]', '[S]', '[J]', '[N]'],\n",
       " ['   ', '[V]', '[L]', '[S]', '[F]', '[Q]', '[C]', '[R]'],\n",
       " ['', '', '', '', '', '', '', '']]"
      ]
     },
     "execution_count": 242,
     "metadata": {},
     "output_type": "execute_result"
    }
   ],
   "source": [
    "p = [[crate[i:i+3] for i in range(0, len(crate)+3,4)] for crate in crates[:-1]]\n",
    "p = list(map(list, zip(*p)))"
   ]
  },
  {
   "cell_type": "code",
   "execution_count": 212,
   "id": "bf8e664c",
   "metadata": {},
   "outputs": [],
   "source": [
    "for step in steps:\n",
    "    q, f, t = step\n",
    "    crates = [element for element in p[f-1] if element!=\"   \"][:q]    \n",
    "    p[f-1] = [element for element in p[f-1] if element!=\"   \"][q:]\n",
    "    p[t-1] = list(reversed(crates)) + p[t-1]"
   ]
  },
  {
   "cell_type": "code",
   "execution_count": 224,
   "id": "37fb54a0",
   "metadata": {},
   "outputs": [],
   "source": [
    "top = [re.sub(r\"[\\[\\]]\",'', t[0]) for t in p if t!=\"   \"]\n",
    "l = ''.join(top)\n",
    "print(l)"
   ]
  },
  {
   "cell_type": "code",
   "execution_count": 233,
   "id": "08a0d8dc",
   "metadata": {},
   "outputs": [
    {
     "name": "stdout",
     "output_type": "stream",
     "text": [
      "DCVTCVPCL\n"
     ]
    }
   ],
   "source": [
    "for step in steps:\n",
    "    q, f, t = step\n",
    "    crates = [element for element in p[f-1] if element!=\"   \"][:q]    \n",
    "    p[f-1] = [element for element in p[f-1] if element!=\"   \"][q:]\n",
    "    p[t-1] = crates + p[t-1]\n",
    "    \n",
    "top = [re.sub(r\"[\\[\\]]\",'', t[0]) for t in p if t!=\"   \"]\n",
    "l = ''.join(top)\n",
    "print(l)"
   ]
  },
  {
   "cell_type": "code",
   "execution_count": null,
   "id": "f124c37a",
   "metadata": {},
   "outputs": [],
   "source": []
  }
 ],
 "metadata": {
  "kernelspec": {
   "display_name": "Python 3 (ipykernel)",
   "language": "python",
   "name": "python3"
  },
  "language_info": {
   "codemirror_mode": {
    "name": "ipython",
    "version": 3
   },
   "file_extension": ".py",
   "mimetype": "text/x-python",
   "name": "python",
   "nbconvert_exporter": "python",
   "pygments_lexer": "ipython3",
   "version": "3.10.6"
  }
 },
 "nbformat": 4,
 "nbformat_minor": 5
}
