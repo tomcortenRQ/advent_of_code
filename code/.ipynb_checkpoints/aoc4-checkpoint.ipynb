{
 "cells": [
  {
   "cell_type": "code",
   "execution_count": 1,
   "id": "8aa68dda",
   "metadata": {},
   "outputs": [],
   "source": [
    "import pandas as pd"
   ]
  },
  {
   "cell_type": "code",
   "execution_count": 31,
   "id": "543f4fd1",
   "metadata": {},
   "outputs": [],
   "source": [
    "x = pd.read_csv(r\"C:\\Users\\TomCortenRiskQuest\\Documents\\haven_question\\code\\avent_of_cod\\aoc_data\\advent_of_code\\input\\input4.txt\", header = None)"
   ]
  },
  {
   "cell_type": "code",
   "execution_count": 32,
   "id": "be213c65",
   "metadata": {},
   "outputs": [],
   "source": [
    "x[0] = x[0].str.split('-')\n",
    "x[1] = x[1].str.split('-')"
   ]
  },
  {
   "cell_type": "code",
   "execution_count": 33,
   "id": "0c4695a5",
   "metadata": {},
   "outputs": [],
   "source": [
    "x['0 contains 1'] = x.apply(lambda x: x[0][0] >= x[1][0] and x[0][1] <= x[1][1], axis=1)\n",
    "x['1 contains 0'] = x.apply(lambda x: x[0][0] <= x[1][0] and x[0][1] >= x[1][1], axis=1)"
   ]
  },
  {
   "cell_type": "code",
   "execution_count": 40,
   "id": "c27b3a69",
   "metadata": {},
   "outputs": [
    {
     "data": {
      "text/plain": [
       "0       True\n",
       "1       True\n",
       "2      False\n",
       "3       True\n",
       "4       True\n",
       "       ...  \n",
       "995     True\n",
       "996    False\n",
       "997    False\n",
       "998    False\n",
       "999    False\n",
       "Length: 1000, dtype: bool"
      ]
     },
     "execution_count": 40,
     "metadata": {},
     "output_type": "execute_result"
    }
   ],
   "source": [
    "(x['0 contains 1'] + x['1 contains 0'])"
   ]
  },
  {
   "cell_type": "code",
   "execution_count": 41,
   "id": "d8235a93",
   "metadata": {},
   "outputs": [
    {
     "data": {
      "text/html": [
       "<div>\n",
       "<style scoped>\n",
       "    .dataframe tbody tr th:only-of-type {\n",
       "        vertical-align: middle;\n",
       "    }\n",
       "\n",
       "    .dataframe tbody tr th {\n",
       "        vertical-align: top;\n",
       "    }\n",
       "\n",
       "    .dataframe thead th {\n",
       "        text-align: right;\n",
       "    }\n",
       "</style>\n",
       "<table border=\"1\" class=\"dataframe\">\n",
       "  <thead>\n",
       "    <tr style=\"text-align: right;\">\n",
       "      <th></th>\n",
       "      <th>0</th>\n",
       "      <th>1</th>\n",
       "      <th>0 contains 1</th>\n",
       "      <th>1 contains 0</th>\n",
       "    </tr>\n",
       "  </thead>\n",
       "  <tbody>\n",
       "    <tr>\n",
       "      <th>0</th>\n",
       "      <td>[33, 62]</td>\n",
       "      <td>[26, 62]</td>\n",
       "      <td>True</td>\n",
       "      <td>False</td>\n",
       "    </tr>\n",
       "    <tr>\n",
       "      <th>1</th>\n",
       "      <td>[49, 89]</td>\n",
       "      <td>[49, 88]</td>\n",
       "      <td>False</td>\n",
       "      <td>True</td>\n",
       "    </tr>\n",
       "    <tr>\n",
       "      <th>2</th>\n",
       "      <td>[2, 4]</td>\n",
       "      <td>[3, 92]</td>\n",
       "      <td>False</td>\n",
       "      <td>False</td>\n",
       "    </tr>\n",
       "    <tr>\n",
       "      <th>3</th>\n",
       "      <td>[7, 98]</td>\n",
       "      <td>[7, 98]</td>\n",
       "      <td>True</td>\n",
       "      <td>True</td>\n",
       "    </tr>\n",
       "    <tr>\n",
       "      <th>4</th>\n",
       "      <td>[6, 74]</td>\n",
       "      <td>[6, 73]</td>\n",
       "      <td>False</td>\n",
       "      <td>True</td>\n",
       "    </tr>\n",
       "    <tr>\n",
       "      <th>...</th>\n",
       "      <td>...</td>\n",
       "      <td>...</td>\n",
       "      <td>...</td>\n",
       "      <td>...</td>\n",
       "    </tr>\n",
       "    <tr>\n",
       "      <th>995</th>\n",
       "      <td>[1, 98]</td>\n",
       "      <td>[2, 17]</td>\n",
       "      <td>False</td>\n",
       "      <td>True</td>\n",
       "    </tr>\n",
       "    <tr>\n",
       "      <th>996</th>\n",
       "      <td>[42, 79]</td>\n",
       "      <td>[9, 80]</td>\n",
       "      <td>False</td>\n",
       "      <td>False</td>\n",
       "    </tr>\n",
       "    <tr>\n",
       "      <th>997</th>\n",
       "      <td>[57, 64]</td>\n",
       "      <td>[38, 59]</td>\n",
       "      <td>False</td>\n",
       "      <td>False</td>\n",
       "    </tr>\n",
       "    <tr>\n",
       "      <th>998</th>\n",
       "      <td>[31, 37]</td>\n",
       "      <td>[37, 72]</td>\n",
       "      <td>False</td>\n",
       "      <td>False</td>\n",
       "    </tr>\n",
       "    <tr>\n",
       "      <th>999</th>\n",
       "      <td>[21, 99]</td>\n",
       "      <td>[1, 25]</td>\n",
       "      <td>False</td>\n",
       "      <td>False</td>\n",
       "    </tr>\n",
       "  </tbody>\n",
       "</table>\n",
       "<p>1000 rows × 4 columns</p>\n",
       "</div>"
      ],
      "text/plain": [
       "            0         1  0 contains 1  1 contains 0\n",
       "0    [33, 62]  [26, 62]          True         False\n",
       "1    [49, 89]  [49, 88]         False          True\n",
       "2      [2, 4]   [3, 92]         False         False\n",
       "3     [7, 98]   [7, 98]          True          True\n",
       "4     [6, 74]   [6, 73]         False          True\n",
       "..        ...       ...           ...           ...\n",
       "995   [1, 98]   [2, 17]         False          True\n",
       "996  [42, 79]   [9, 80]         False         False\n",
       "997  [57, 64]  [38, 59]         False         False\n",
       "998  [31, 37]  [37, 72]         False         False\n",
       "999  [21, 99]   [1, 25]         False         False\n",
       "\n",
       "[1000 rows x 4 columns]"
      ]
     },
     "execution_count": 41,
     "metadata": {},
     "output_type": "execute_result"
    }
   ],
   "source": [
    "x"
   ]
  },
  {
   "cell_type": "code",
   "execution_count": null,
   "id": "e868b2b6",
   "metadata": {},
   "outputs": [],
   "source": []
  }
 ],
 "metadata": {
  "kernelspec": {
   "display_name": "Python 3 (ipykernel)",
   "language": "python",
   "name": "python3"
  },
  "language_info": {
   "codemirror_mode": {
    "name": "ipython",
    "version": 3
   },
   "file_extension": ".py",
   "mimetype": "text/x-python",
   "name": "python",
   "nbconvert_exporter": "python",
   "pygments_lexer": "ipython3",
   "version": "3.10.6"
  }
 },
 "nbformat": 4,
 "nbformat_minor": 5
}
