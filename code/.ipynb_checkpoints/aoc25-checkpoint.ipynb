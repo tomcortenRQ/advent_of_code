{
 "cells": [
  {
   "cell_type": "code",
   "execution_count": null,
   "id": "49e50fa5",
   "metadata": {},
   "outputs": [],
   "source": [
    "from fractions import gcd\n",
    "\n",
    "with open(r\"/Users/tomcorten/Documents/code/advent_of_code/input/input25test.txt\",'r') as f:\n",
    "    lines = [line.rstrip() for line in f]   "
   ]
  },
  {
   "cell_type": "code",
   "execution_count": 29,
   "id": "055ace0d",
   "metadata": {},
   "outputs": [
    {
     "name": "stdout",
     "output_type": "stream",
     "text": [
      "4890\n"
     ]
    }
   ],
   "source": [
    "s = 0\n",
    "\n",
    "for line in lines:\n",
    "    s += snaf_to_dec(line)\n",
    "\n",
    "print(s)"
   ]
  },
  {
   "cell_type": "code",
   "execution_count": null,
   "id": "4e4fc10e",
   "metadata": {},
   "outputs": [],
   "source": [
    "def snaf_to_dec(snaf):\n",
    "    n = len(snaf)-1\n",
    "    num = 0\n",
    "    for count, i in enumerate(snaf):\n",
    "        power = 5**(n-count)\n",
    "        if i=='=':\n",
    "            num -= 2*power\n",
    "            continue\n",
    "        if i=='-':\n",
    "            num -= power\n",
    "            continue\n",
    "        else:\n",
    "            num += int(i)*power\n",
    "    return num\n",
    "\n",
    "def dec_to_snaf(dec):\n",
    "    power = 1\n",
    "    while dec%power==0:\n",
    "        power *= 5 \n",
    "        print(dec, power)\n",
    "    print(power)\n",
    "\n",
    "    \n",
    "dec_to_snaf(2000)"
   ]
  },
  {
   "cell_type": "code",
   "execution_count": null,
   "id": "879564b5",
   "metadata": {},
   "outputs": [],
   "source": []
  },
  {
   "cell_type": "code",
   "execution_count": null,
   "id": "fb2c5fc8",
   "metadata": {},
   "outputs": [],
   "source": []
  }
 ],
 "metadata": {
  "kernelspec": {
   "display_name": "Python 3 (ipykernel)",
   "language": "python",
   "name": "python3"
  },
  "language_info": {
   "codemirror_mode": {
    "name": "ipython",
    "version": 3
   },
   "file_extension": ".py",
   "mimetype": "text/x-python",
   "name": "python",
   "nbconvert_exporter": "python",
   "pygments_lexer": "ipython3",
   "version": "3.9.6"
  }
 },
 "nbformat": 4,
 "nbformat_minor": 5
}
