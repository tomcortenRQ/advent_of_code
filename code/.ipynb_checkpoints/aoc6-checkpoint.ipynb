{
 "cells": [
  {
   "cell_type": "code",
   "execution_count": 1,
   "id": "3448f555",
   "metadata": {},
   "outputs": [],
   "source": [
    "with open(r\"C:\\Users\\TomCortenRiskQuest\\Documents\\avent_of_cod\\advent_of_code\\input\\input6.txt\", 'r') as file:\n",
    "    data = file.read().replace('\\n', '')"
   ]
  },
  {
   "cell_type": "code",
   "execution_count": 20,
   "id": "e8fb22d2",
   "metadata": {},
   "outputs": [
    {
     "name": "stdout",
     "output_type": "stream",
     "text": [
      "dcmv 1080\n"
     ]
    }
   ],
   "source": [
    "code_length = 4\n",
    "for i in range(0, len(data)):\n",
    "    potential_marker = data[i:i+code_length]\n",
    "    if len(set(potential_marker))==code_length:\n",
    "        print(potential_marker, i+code_length)\n",
    "        break"
   ]
  },
  {
   "cell_type": "code",
   "execution_count": 21,
   "id": "a3e9d24e",
   "metadata": {},
   "outputs": [
    {
     "name": "stdout",
     "output_type": "stream",
     "text": [
      "sblmzdwqcrftvn 3645\n"
     ]
    }
   ],
   "source": [
    "code_length = 14\n",
    "for i in range(0, len(data)):\n",
    "    potential_marker = data[i:i+code_length]\n",
    "    if len(set(potential_marker))==code_length:\n",
    "        print(potential_marker, i+code_length)\n",
    "        break"
   ]
  }
 ],
 "metadata": {
  "kernelspec": {
   "display_name": "Python 3 (ipykernel)",
   "language": "python",
   "name": "python3"
  },
  "language_info": {
   "codemirror_mode": {
    "name": "ipython",
    "version": 3
   },
   "file_extension": ".py",
   "mimetype": "text/x-python",
   "name": "python",
   "nbconvert_exporter": "python",
   "pygments_lexer": "ipython3",
   "version": "3.10.6"
  }
 },
 "nbformat": 4,
 "nbformat_minor": 5
}
