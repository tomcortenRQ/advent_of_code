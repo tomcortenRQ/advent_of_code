{
 "cells": [
  {
   "cell_type": "code",
   "execution_count": 324,
   "id": "9d88df39",
   "metadata": {},
   "outputs": [],
   "source": [
    "with open(r\"/Users/tomcorten/Documents/code/advent_of_code/input/input13.txt\", 'r') as f:\n",
    "    contents = f.read()\n",
    "\n",
    "splitted_input = contents.split('\\n\\n')"
   ]
  },
  {
   "cell_type": "code",
   "execution_count": 333,
   "id": "d7fde09b",
   "metadata": {},
   "outputs": [
    {
     "name": "stdout",
     "output_type": "stream",
     "text": [
      "[[[1, [6, 9, 9], [8, 6, 0]], 4, [6, [2, 1, 10], 4], 7, [2, [2, 9], 1]]]      [[], [5, 3, [8, [], 9]], [8]]\n",
      "[[[1, [6, 9, 9], [8, 6, 0]], 4, [6, [2, 1, 10], 4], 7, [2, [2, 9], 1]]]       [[], [5, 3, [8, [], 9]], [8]] \n",
      "\n",
      "[[1, [6, 9, 9], [8, 6, 0]], 4, [6, [2, 1, 10], 4], 7, [2, [2, 9], 1]] [[5, 3, [8, [], 9]], [8]]\n",
      "[[1, [6, 9, 9], [8, 6, 0]], 4, [6, [2, 1, 10], 4], 7, [2, [2, 9], 1]]       [[5, 3, [8, [], 9]], [8]] \n",
      "\n",
      "[1, [6, 9, 9], [8, 6, 0], 4, [6, [2, 1, 10], 4], 7, [2, [2, 9], 1]] [5, 3, [8, [], 9], [8]]\n",
      "[1, [6, 9, 9], [8, 6, 0], 4, [6, [2, 1, 10], 4], 7, [2, [2, 9], 1]]       [5, 3, [8, [], 9], [8]] \n",
      "\n"
     ]
    },
    {
     "data": {
      "text/plain": [
       "1"
      ]
     },
     "execution_count": 333,
     "metadata": {},
     "output_type": "execute_result"
    }
   ],
   "source": [
    "tot = 0\n",
    "for k, pack in enumerate(splitted_input[20:21]):\n",
    "    pac1, pac2 = pack.split('\\n')\n",
    "    pac1, pac2 = eval(pac1), eval(pac2)\n",
    "    print(pac1, '    ', pac2)\n",
    "    x = recursie(pac1, pac2)\n",
    "    tot += (x*(k+1))\n",
    "    #print(pac1, '\\n\\n', pac2)\n",
    "tot   "
   ]
  },
  {
   "cell_type": "code",
   "execution_count": 332,
   "id": "0628f8bc",
   "metadata": {},
   "outputs": [],
   "source": [
    "def recursie(pac1, pac2):    \n",
    "    print(pac1,'     ', pac2, '\\n')\n",
    "    for x, y in zip(pac1, pac2):\n",
    "        if isinstance(x, int) and isinstance(y, int):\n",
    "            if x < y:\n",
    "                return True\n",
    "            if x > y:\n",
    "                #print('not cow')\n",
    "                return False         \n",
    "        if isinstance(x, list) and isinstance(y, list):\n",
    "            pac1.pop(0)\n",
    "            pac2.pop(0)\n",
    "            print(x+pac1, y+pac2)\n",
    "            return recursie(x+pac1,y+pac2)\n",
    "        if (isinstance(x, list) and isinstance(y, int)):\n",
    "            y = len(x)*[y]\n",
    "            return recursie(x,y)\n",
    "        if (isinstance(y, list) and isinstance(x, int)):\n",
    "            x = len(y)*[x]    \n",
    "            return recursie(x,y)\n",
    "    if len(pac1) < len(pac2):\n",
    "        #print(pac1, pac2, 'nnn')\n",
    "        return True\n",
    "    if len(pac1) > len(pac2):\n",
    "        #print(pac1, pac2, 'yyy')\n",
    "        return False\n",
    "    if pac1 == pac2:\n",
    "        return False"
   ]
  },
  {
   "cell_type": "code",
   "execution_count": 274,
   "id": "3bdb3e01",
   "metadata": {},
   "outputs": [
    {
     "data": {
      "text/plain": [
       "[[]]"
      ]
     },
     "execution_count": 274,
     "metadata": {},
     "output_type": "execute_result"
    }
   ],
   "source": [
    "x = [[[]]]\n",
    "\n",
    "x[0]"
   ]
  },
  {
   "cell_type": "code",
   "execution_count": null,
   "id": "ed76ef78",
   "metadata": {},
   "outputs": [],
   "source": []
  }
 ],
 "metadata": {
  "kernelspec": {
   "display_name": "Python 3 (ipykernel)",
   "language": "python",
   "name": "python3"
  },
  "language_info": {
   "codemirror_mode": {
    "name": "ipython",
    "version": 3
   },
   "file_extension": ".py",
   "mimetype": "text/x-python",
   "name": "python",
   "nbconvert_exporter": "python",
   "pygments_lexer": "ipython3",
   "version": "3.9.6"
  }
 },
 "nbformat": 4,
 "nbformat_minor": 5
}
