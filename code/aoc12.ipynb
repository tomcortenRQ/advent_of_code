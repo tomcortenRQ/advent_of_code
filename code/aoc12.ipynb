{
 "cells": [
  {
   "cell_type": "code",
   "execution_count": 49,
   "id": "5950d3ef",
   "metadata": {},
   "outputs": [],
   "source": [
    "import numpy as np\n",
    "import string"
   ]
  },
  {
   "cell_type": "code",
   "execution_count": 92,
   "id": "b6e8d0b0",
   "metadata": {},
   "outputs": [],
   "source": [
    "x = np.genfromtxt(r\"C:\\Users\\TomCortenRiskQuest\\Documents\\avent_of_cod\\advent_of_code\\input\\input12test.txt\", delimiter=1, dtype=str)"
   ]
  },
  {
   "cell_type": "code",
   "execution_count": 139,
   "id": "40690618",
   "metadata": {},
   "outputs": [
    {
     "data": {
      "text/plain": [
       "array([1], dtype=int64)"
      ]
     },
     "execution_count": 139,
     "metadata": {},
     "output_type": "execute_result"
    }
   ],
   "source": [
    "i, j = np.where(x == \"S\")"
   ]
  },
  {
   "cell_type": "code",
   "execution_count": 184,
   "id": "8c1d5635",
   "metadata": {},
   "outputs": [
    {
     "name": "stdout",
     "output_type": "stream",
     "text": [
      "Following is the Breadth-First Search\n",
      "49\n",
      "49\n"
     ]
    }
   ],
   "source": [
    "graph = {\n",
    "  '5' : ['3','7'],\n",
    "  '3' : ['2', '4'],\n",
    "  '7' : ['8'],\n",
    "  '2' : [],\n",
    "  '4' : ['8'],\n",
    "  '8' : []\n",
    "}\n",
    "\n",
    "visited = [] # List for visited nodes.\n",
    "queue = []     #Initialize a queue\n",
    "\n",
    "def bfs(visited, x, node): #function for BFS\n",
    "    visited.append(node)\n",
    "    queue.append(node)\n",
    "\n",
    "    while queue:          # Creating loop to visit each node\n",
    "        m = queue.pop(0) \n",
    "        #print(m, end = \"\\n\\n\") \n",
    "        for neighbour in [[1,0], [0,1], [-1,0], [0,-1]]:\n",
    "            step = [sum(x) for x in zip(m, neighbour)]\n",
    "            if min(step)<0:\n",
    "                continue\n",
    "            print(ord(x[tuple(step)])-ord(x[tuple(m)]))\n",
    "            if ord(x[tuple(step)])-ord(x[tuple(m)])==1:\n",
    "                if neighbour not in visited:\n",
    "                    visited.append(neighbour)\n",
    "                    queue.append(neighbour)\n",
    "                    print(queue)\n",
    "# Driver Code\n",
    "print(\"Following is the Breadth-First Search\")\n",
    "bfs(visited, x, [0,0])   # function calling"
   ]
  },
  {
   "cell_type": "code",
   "execution_count": 185,
   "id": "b02aed5a",
   "metadata": {},
   "outputs": [
    {
     "data": {
      "text/plain": [
       "array([['0', 'a', 'b', 'q', 'p', 'o', 'n', 'm'],\n",
       "       ['a', 'b', 'c', 'r', 'y', 'x', 'x', 'l'],\n",
       "       ['a', 'c', 'c', 's', 'z', 'E', 'x', 'k'],\n",
       "       ['a', 'c', 'c', 't', 'u', 'v', 'w', 'j'],\n",
       "       ['a', 'b', 'd', 'e', 'f', 'g', 'h', 'i']], dtype='<U1')"
      ]
     },
     "execution_count": 185,
     "metadata": {},
     "output_type": "execute_result"
    }
   ],
   "source": []
  },
  {
   "cell_type": "code",
   "execution_count": null,
   "id": "2b7e1dea",
   "metadata": {},
   "outputs": [],
   "source": []
  }
 ],
 "metadata": {
  "kernelspec": {
   "display_name": "Python 3 (ipykernel)",
   "language": "python",
   "name": "python3"
  },
  "language_info": {
   "codemirror_mode": {
    "name": "ipython",
    "version": 3
   },
   "file_extension": ".py",
   "mimetype": "text/x-python",
   "name": "python",
   "nbconvert_exporter": "python",
   "pygments_lexer": "ipython3",
   "version": "3.10.6"
  }
 },
 "nbformat": 4,
 "nbformat_minor": 5
}
