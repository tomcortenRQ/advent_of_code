{
 "cells": [
  {
   "cell_type": "code",
   "execution_count": 253,
   "id": "68861cc3",
   "metadata": {},
   "outputs": [],
   "source": [
    "import numpy as np\n",
    "\n",
    "x = np.genfromtxt(r\"C:\\Users\\TomCortenRiskQuest\\Documents\\avent_of_cod\\advent_of_code\\input\\input8.txt\", delimiter=1, dtype=int)"
   ]
  },
  {
   "cell_type": "code",
   "execution_count": 254,
   "id": "d69dd338",
   "metadata": {},
   "outputs": [
    {
     "data": {
      "text/plain": [
       "1782"
      ]
     },
     "execution_count": 254,
     "metadata": {},
     "output_type": "execute_result"
    }
   ],
   "source": [
    "score = 0\n",
    "for i in range(1, x.shape[0]-1):\n",
    "    for j in range (1, x.shape[0]-1):\n",
    "        if max(x[i,j+1:]) < x[i,j] or max(x[:i,j]) < x[i,j] or max(x[i+1:,j]) < x[i,j] or max(x[i,:j])< x[i,j]:\n",
    "            score +=1\n",
    "score += 4*len(x)-4\n",
    "score"
   ]
  },
  {
   "cell_type": "code",
   "execution_count": 257,
   "id": "43d011ff",
   "metadata": {},
   "outputs": [
    {
     "data": {
      "text/plain": [
       "474606"
      ]
     },
     "execution_count": 257,
     "metadata": {},
     "output_type": "execute_result"
    }
   ],
   "source": [
    "def find_list(arr, num):\n",
    "    a = []  \n",
    "    for i in arr:\n",
    "        if i >= num:\n",
    "            a.append(i)\n",
    "            return a\n",
    "        else:\n",
    "            a.append(i)\n",
    "    return a\n",
    "\n",
    "y = []\n",
    "\n",
    "for i in range(x.shape[0]):\n",
    "    for j in range(x.shape[0]):\n",
    "        score = []\n",
    "        a_right = find_list(x[i,j+1:], x[i,j])\n",
    "        score.append(len(a_right))\n",
    "        a_up = find_list(list(reversed(x[:i,j])), x[i,j]) \n",
    "        score.append(len(a_up))\n",
    "        a_down = find_list(x[i+1:,j], x[i,j])   \n",
    "        score.append(len(a_down))\n",
    "        a_left = find_list(list(reversed(x[i,:j])), x[i,j])\n",
    "        score.append(len(a_left))\n",
    "        y.append(np.prod(score))\n",
    "max(y)"
   ]
  },
  {
   "cell_type": "code",
   "execution_count": null,
   "id": "8a90b1b8",
   "metadata": {},
   "outputs": [],
   "source": []
  }
 ],
 "metadata": {
  "kernelspec": {
   "display_name": "Python 3 (ipykernel)",
   "language": "python",
   "name": "python3"
  },
  "language_info": {
   "codemirror_mode": {
    "name": "ipython",
    "version": 3
   },
   "file_extension": ".py",
   "mimetype": "text/x-python",
   "name": "python",
   "nbconvert_exporter": "python",
   "pygments_lexer": "ipython3",
   "version": "3.10.6"
  }
 },
 "nbformat": 4,
 "nbformat_minor": 5
}
