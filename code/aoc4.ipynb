{
 "cells": [
  {
   "cell_type": "code",
   "execution_count": 207,
   "id": "34778329",
   "metadata": {},
   "outputs": [],
   "source": [
    "import pandas as pd"
   ]
  },
  {
   "cell_type": "code",
   "execution_count": 208,
   "id": "22134d84",
   "metadata": {},
   "outputs": [],
   "source": [
    "x = pd.read_csv(r\"C:\\Users\\TomCortenRiskQuest\\Documents\\haven_question\\code\\avent_of_cod\\aoc_data\\advent_of_code\\input\\input4.txt\", header = None)"
   ]
  },
  {
   "cell_type": "code",
   "execution_count": 209,
   "id": "863f56eb",
   "metadata": {},
   "outputs": [],
   "source": [
    "x[0] = x[0].str.split('-')\n",
    "x[1] = x[1].str.split('-')\n",
    "\n",
    "x[0] = x[0].apply(lambda x: [int(el) for el in x])\n",
    "x[1] = x[1].apply(lambda x: [int(el) for el in x])"
   ]
  },
  {
   "cell_type": "code",
   "execution_count": 183,
   "id": "7c760596",
   "metadata": {},
   "outputs": [],
   "source": [
    "x['1 contains 0'] = x.apply(lambda x: (x[0][0] >= x[1][0] and x[0][1] <= x[1][1]) or ( x[0][0] <= x[1][0] and x[0][1] >= x[1][1]), axis=1)"
   ]
  },
  {
   "cell_type": "code",
   "execution_count": 189,
   "id": "f145798c",
   "metadata": {},
   "outputs": [
    {
     "data": {
      "text/html": [
       "<div>\n",
       "<style scoped>\n",
       "    .dataframe tbody tr th:only-of-type {\n",
       "        vertical-align: middle;\n",
       "    }\n",
       "\n",
       "    .dataframe tbody tr th {\n",
       "        vertical-align: top;\n",
       "    }\n",
       "\n",
       "    .dataframe thead th {\n",
       "        text-align: right;\n",
       "    }\n",
       "</style>\n",
       "<table border=\"1\" class=\"dataframe\">\n",
       "  <thead>\n",
       "    <tr style=\"text-align: right;\">\n",
       "      <th></th>\n",
       "      <th>0</th>\n",
       "      <th>1</th>\n",
       "    </tr>\n",
       "  </thead>\n",
       "  <tbody>\n",
       "    <tr>\n",
       "      <th>0</th>\n",
       "      <td>[33, 62]</td>\n",
       "      <td>[26, 62]</td>\n",
       "    </tr>\n",
       "    <tr>\n",
       "      <th>1</th>\n",
       "      <td>[49, 89]</td>\n",
       "      <td>[49, 88]</td>\n",
       "    </tr>\n",
       "    <tr>\n",
       "      <th>2</th>\n",
       "      <td>[2, 4]</td>\n",
       "      <td>[3, 92]</td>\n",
       "    </tr>\n",
       "    <tr>\n",
       "      <th>3</th>\n",
       "      <td>[7, 98]</td>\n",
       "      <td>[7, 98]</td>\n",
       "    </tr>\n",
       "    <tr>\n",
       "      <th>4</th>\n",
       "      <td>[6, 74]</td>\n",
       "      <td>[6, 73]</td>\n",
       "    </tr>\n",
       "    <tr>\n",
       "      <th>...</th>\n",
       "      <td>...</td>\n",
       "      <td>...</td>\n",
       "    </tr>\n",
       "    <tr>\n",
       "      <th>995</th>\n",
       "      <td>[1, 98]</td>\n",
       "      <td>[2, 17]</td>\n",
       "    </tr>\n",
       "    <tr>\n",
       "      <th>996</th>\n",
       "      <td>[42, 79]</td>\n",
       "      <td>[9, 80]</td>\n",
       "    </tr>\n",
       "    <tr>\n",
       "      <th>997</th>\n",
       "      <td>[57, 64]</td>\n",
       "      <td>[38, 59]</td>\n",
       "    </tr>\n",
       "    <tr>\n",
       "      <th>998</th>\n",
       "      <td>[31, 37]</td>\n",
       "      <td>[37, 72]</td>\n",
       "    </tr>\n",
       "    <tr>\n",
       "      <th>999</th>\n",
       "      <td>[21, 99]</td>\n",
       "      <td>[1, 25]</td>\n",
       "    </tr>\n",
       "  </tbody>\n",
       "</table>\n",
       "<p>1000 rows × 2 columns</p>\n",
       "</div>"
      ],
      "text/plain": [
       "            0         1\n",
       "0    [33, 62]  [26, 62]\n",
       "1    [49, 89]  [49, 88]\n",
       "2      [2, 4]   [3, 92]\n",
       "3     [7, 98]   [7, 98]\n",
       "4     [6, 74]   [6, 73]\n",
       "..        ...       ...\n",
       "995   [1, 98]   [2, 17]\n",
       "996  [42, 79]   [9, 80]\n",
       "997  [57, 64]  [38, 59]\n",
       "998  [31, 37]  [37, 72]\n",
       "999  [21, 99]   [1, 25]\n",
       "\n",
       "[1000 rows x 2 columns]"
      ]
     },
     "execution_count": 189,
     "metadata": {},
     "output_type": "execute_result"
    }
   ],
   "source": [
    "x"
   ]
  },
  {
   "cell_type": "code",
   "execution_count": 212,
   "id": "159f12d3",
   "metadata": {},
   "outputs": [],
   "source": [
    "x['1 contains 0'] = x.apply(lambda x: len(set(range(x[0][0], x[0][1]+1)) & set(range(x[1][0], x[1][1]+1)))!=0, axis=1)"
   ]
  },
  {
   "cell_type": "code",
   "execution_count": 214,
   "id": "2b3d57f4",
   "metadata": {},
   "outputs": [
    {
     "data": {
      "text/plain": [
       "(911, 3)"
      ]
     },
     "execution_count": 214,
     "metadata": {},
     "output_type": "execute_result"
    }
   ],
   "source": [
    "x[x['1 contains 0']==True].shape"
   ]
  },
  {
   "cell_type": "code",
   "execution_count": 213,
   "id": "54ed8173",
   "metadata": {},
   "outputs": [
    {
     "data": {
      "text/html": [
       "<div>\n",
       "<style scoped>\n",
       "    .dataframe tbody tr th:only-of-type {\n",
       "        vertical-align: middle;\n",
       "    }\n",
       "\n",
       "    .dataframe tbody tr th {\n",
       "        vertical-align: top;\n",
       "    }\n",
       "\n",
       "    .dataframe thead th {\n",
       "        text-align: right;\n",
       "    }\n",
       "</style>\n",
       "<table border=\"1\" class=\"dataframe\">\n",
       "  <thead>\n",
       "    <tr style=\"text-align: right;\">\n",
       "      <th></th>\n",
       "      <th>0</th>\n",
       "      <th>1</th>\n",
       "      <th>1 contains 0</th>\n",
       "    </tr>\n",
       "  </thead>\n",
       "  <tbody>\n",
       "    <tr>\n",
       "      <th>0</th>\n",
       "      <td>[33, 62]</td>\n",
       "      <td>[26, 62]</td>\n",
       "      <td>True</td>\n",
       "    </tr>\n",
       "    <tr>\n",
       "      <th>1</th>\n",
       "      <td>[49, 89]</td>\n",
       "      <td>[49, 88]</td>\n",
       "      <td>True</td>\n",
       "    </tr>\n",
       "    <tr>\n",
       "      <th>2</th>\n",
       "      <td>[2, 4]</td>\n",
       "      <td>[3, 92]</td>\n",
       "      <td>True</td>\n",
       "    </tr>\n",
       "    <tr>\n",
       "      <th>3</th>\n",
       "      <td>[7, 98]</td>\n",
       "      <td>[7, 98]</td>\n",
       "      <td>True</td>\n",
       "    </tr>\n",
       "    <tr>\n",
       "      <th>4</th>\n",
       "      <td>[6, 74]</td>\n",
       "      <td>[6, 73]</td>\n",
       "      <td>True</td>\n",
       "    </tr>\n",
       "    <tr>\n",
       "      <th>...</th>\n",
       "      <td>...</td>\n",
       "      <td>...</td>\n",
       "      <td>...</td>\n",
       "    </tr>\n",
       "    <tr>\n",
       "      <th>995</th>\n",
       "      <td>[1, 98]</td>\n",
       "      <td>[2, 17]</td>\n",
       "      <td>True</td>\n",
       "    </tr>\n",
       "    <tr>\n",
       "      <th>996</th>\n",
       "      <td>[42, 79]</td>\n",
       "      <td>[9, 80]</td>\n",
       "      <td>True</td>\n",
       "    </tr>\n",
       "    <tr>\n",
       "      <th>997</th>\n",
       "      <td>[57, 64]</td>\n",
       "      <td>[38, 59]</td>\n",
       "      <td>True</td>\n",
       "    </tr>\n",
       "    <tr>\n",
       "      <th>998</th>\n",
       "      <td>[31, 37]</td>\n",
       "      <td>[37, 72]</td>\n",
       "      <td>True</td>\n",
       "    </tr>\n",
       "    <tr>\n",
       "      <th>999</th>\n",
       "      <td>[21, 99]</td>\n",
       "      <td>[1, 25]</td>\n",
       "      <td>True</td>\n",
       "    </tr>\n",
       "  </tbody>\n",
       "</table>\n",
       "<p>1000 rows × 3 columns</p>\n",
       "</div>"
      ],
      "text/plain": [
       "            0         1  1 contains 0\n",
       "0    [33, 62]  [26, 62]          True\n",
       "1    [49, 89]  [49, 88]          True\n",
       "2      [2, 4]   [3, 92]          True\n",
       "3     [7, 98]   [7, 98]          True\n",
       "4     [6, 74]   [6, 73]          True\n",
       "..        ...       ...           ...\n",
       "995   [1, 98]   [2, 17]          True\n",
       "996  [42, 79]   [9, 80]          True\n",
       "997  [57, 64]  [38, 59]          True\n",
       "998  [31, 37]  [37, 72]          True\n",
       "999  [21, 99]   [1, 25]          True\n",
       "\n",
       "[1000 rows x 3 columns]"
      ]
     },
     "execution_count": 213,
     "metadata": {},
     "output_type": "execute_result"
    }
   ],
   "source": [
    "x"
   ]
  },
  {
   "cell_type": "code",
   "execution_count": null,
   "id": "daf1d117",
   "metadata": {},
   "outputs": [],
   "source": []
  }
 ],
 "metadata": {
  "kernelspec": {
   "display_name": "Python 3 (ipykernel)",
   "language": "python",
   "name": "python3"
  },
  "language_info": {
   "codemirror_mode": {
    "name": "ipython",
    "version": 3
   },
   "file_extension": ".py",
   "mimetype": "text/x-python",
   "name": "python",
   "nbconvert_exporter": "python",
   "pygments_lexer": "ipython3",
   "version": "3.10.6"
  }
 },
 "nbformat": 4,
 "nbformat_minor": 5
}
